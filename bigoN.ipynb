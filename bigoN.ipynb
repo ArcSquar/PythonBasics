{
 "cells": [
  {
   "cell_type": "markdown",
   "id": "cb0f5b67",
   "metadata": {},
   "source": [
    "# BiG-O\n",
    "\n",
    "\n"
   ]
  },
  {
   "cell_type": "markdown",
   "id": "5faa1026",
   "metadata": {},
   "source": [
    "### What is Big O? \n",
    "Big-O is a standard mathematical notation that shows how efficient an algorithm is in the worst-case scenario relative to its input size. To measure the efficiency of an algorithm, we need to consider two things:\n",
    "\n",
    "    Time Complexity: How much time does it take to run completely?\n",
    "    Space Complexity: How much new space does it require in the process?\n",
    "\n",
    "Big-O notation captures the upper bound to show how much time or space an algorithm would require in the worst case scenario as the input size grows. It is usually written as:\n",
    "\n",
    "  `f(n)=O(inputSize)`"
   ]
  },
  {
   "cell_type": "markdown",
   "id": "eb234718",
   "metadata": {},
   "source": [
    "#### O(1) Constant "
   ]
  },
  {
   "cell_type": "code",
   "execution_count": 7,
   "id": "b4a87ff4",
   "metadata": {},
   "outputs": [
    {
     "name": "stdout",
     "output_type": "stream",
     "text": [
      "1\n"
     ]
    }
   ],
   "source": [
    "def func_constant(values):\n",
    "    print(values[0])\n",
    "lst = [1,2,3]\n",
    "func_constant(lst)\n",
    "# length of output is 1 so the number of operations for N input is always 1 "
   ]
  },
  {
   "cell_type": "markdown",
   "id": "117583ca",
   "metadata": {},
   "source": [
    "####  O(n) Linear"
   ]
  },
  {
   "cell_type": "code",
   "execution_count": 8,
   "id": "2fa0d1f8",
   "metadata": {},
   "outputs": [
    {
     "name": "stdout",
     "output_type": "stream",
     "text": [
      "1\n",
      "2\n",
      "3\n"
     ]
    }
   ],
   "source": [
    "def func_linear(values):\n",
    "    # Length of print statements equal to len of input \n",
    "    for val in values:\n",
    "        print(val)\n",
    "\n",
    "lst = [1,2,3] # length of input is 3 \n",
    "func_linear(lst) \n",
    "# length of the output is 3 so the number of operations for N input is N"
   ]
  }
 ],
 "metadata": {
  "kernelspec": {
   "display_name": "Python 3 (ipykernel)",
   "language": "python",
   "name": "python3"
  },
  "language_info": {
   "codemirror_mode": {
    "name": "ipython",
    "version": 3
   },
   "file_extension": ".py",
   "mimetype": "text/x-python",
   "name": "python",
   "nbconvert_exporter": "python",
   "pygments_lexer": "ipython3",
   "version": "3.8.2"
  }
 },
 "nbformat": 4,
 "nbformat_minor": 5
}
