{
 "cells": [
  {
   "cell_type": "markdown",
   "id": "b8721d0a",
   "metadata": {},
   "source": [
    "### Problem\n",
    "\n",
    "Given an int count of a number of donuts, return a string of the form 'Number of donuts: <count>', where <count> is the number passed in. However, if the count is 10 or more, then use the word 'many' instead of the actual count.\n",
    "Test Cases:\n",
    "- donuts(5) returns 'Number of donuts: 5'\n",
    "- donuts(23) returns 'Number of donuts: many'\n",
    "\n",
    "\n"
   ]
  },
  {
   "cell_type": "markdown",
   "id": "4effaace",
   "metadata": {},
   "source": [
    " ### Solution \n",
    " Edge cases to consider \n",
    "- Is count can be float?\n",
    "- Is count can be zero ? No donuts ?\n",
    "- Datatype check and convertion ?"
   ]
  },
  {
   "cell_type": "code",
   "execution_count": 5,
   "id": "031f6339",
   "metadata": {},
   "outputs": [],
   "source": [
    "def donuts(count):\n",
    "  # Code to handle edge cases ?  \n",
    "  if type(count) == int and count < 10:\n",
    "    return f\"Number of donuts: {count}\"\n",
    "  return \"Number of donuts: many\""
   ]
  }
 ],
 "metadata": {
  "kernelspec": {
   "display_name": "Python 3 (ipykernel)",
   "language": "python",
   "name": "python3"
  },
  "language_info": {
   "codemirror_mode": {
    "name": "ipython",
    "version": 3
   },
   "file_extension": ".py",
   "mimetype": "text/x-python",
   "name": "python",
   "nbconvert_exporter": "python",
   "pygments_lexer": "ipython3",
   "version": "3.8.2"
  }
 },
 "nbformat": 4,
 "nbformat_minor": 5
}
